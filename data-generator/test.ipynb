{
 "cells": [
  {
   "cell_type": "code",
   "execution_count": 55,
   "metadata": {},
   "outputs": [],
   "source": [
    "import socket\n",
    "import json\n",
    "\n",
    "def send_json_via_tcp(host, port, data):\n",
    "    \"\"\"\n",
    "    通过 TCP 发送 JSON 数据到指定的主机和端口。\n",
    "\n",
    "    :param host: 服务器的主机名或IP地址\n",
    "    :param port: 服务器监听的端口号\n",
    "    :param data: 要发送的 Python 字典数据\n",
    "    \"\"\"\n",
    "    try:\n",
    "        # 将 Python 字典转换为 JSON 字符串\n",
    "        json_data = json.dumps(data)\n",
    "        # 编码为字节\n",
    "        encoded_data = json_data.encode('utf-8')\n",
    "\n",
    "        # 创建一个 TCP/IP 套接字\n",
    "        with socket.socket(socket.AF_INET, socket.SOCK_STREAM) as sock:\n",
    "            # 连接到服务器\n",
    "            sock.connect((host, port))\n",
    "            print(f\"连接到 {host}:{port}\")\n",
    "\n",
    "            # 发送数据\n",
    "            sock.sendall(encoded_data)\n",
    "            print(f\"发送数据: {json_data}\")\n",
    "\n",
    "            # 可选：接收服务器的响应（如果服务器有响应的话）\n",
    "            try:\n",
    "                response = sock.recv(4096)\n",
    "                if response:\n",
    "                    print(f\"收到响应: {response.decode('utf-8')}\")\n",
    "                else:\n",
    "                    print(\"服务器没有响应或连接已关闭。\")\n",
    "            except socket.timeout:\n",
    "                print(\"接收响应时超时。\")\n",
    "\n",
    "    except Exception as e:\n",
    "        print(f\"发生错误: {e}\")\n"
   ]
  },
  {
   "cell_type": "code",
   "execution_count": 57,
   "metadata": {},
   "outputs": [
    {
     "name": "stdout",
     "output_type": "stream",
     "text": [
      "连接到 127.0.0.1:7001\n",
      "发送数据: {\"type\": \"ADD_ORDER\", \"instrument\": \"AAPL\", \"price\": 150.25, \"quantity\": 100, \"isBuy\": true, \"orderType\": \"LIMIT\"}\n",
      "收到响应: Order added successfully with ID: 1\n"
     ]
    }
   ],
   "source": [
    "HOST = '127.0.0.1' \n",
    "PORT = 7001        \n",
    "\n",
    "# 要发送的 JSON 数据\n",
    "order = {\n",
    "    \"type\": \"ADD_ORDER\",\n",
    "    \"instrument\": \"AAPL\",\n",
    "    \"price\": 150.25,\n",
    "    \"quantity\": 100,\n",
    "    \"isBuy\": True,\n",
    "    \"orderType\": \"LIMIT\"\n",
    "}\n",
    "\n",
    "send_json_via_tcp(HOST, PORT, order)\n"
   ]
  },
  {
   "cell_type": "code",
   "execution_count": null,
   "metadata": {},
   "outputs": [],
   "source": []
  }
 ],
 "metadata": {
  "kernelspec": {
   "display_name": "finance",
   "language": "python",
   "name": "python3"
  },
  "language_info": {
   "codemirror_mode": {
    "name": "ipython",
    "version": 3
   },
   "file_extension": ".py",
   "mimetype": "text/x-python",
   "name": "python",
   "nbconvert_exporter": "python",
   "pygments_lexer": "ipython3",
   "version": "3.11.5"
  }
 },
 "nbformat": 4,
 "nbformat_minor": 2
}
